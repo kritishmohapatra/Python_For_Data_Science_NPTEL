{
 "cells": [
  {
   "cell_type": "code",
   "execution_count": 18,
   "id": "54eebd39",
   "metadata": {},
   "outputs": [],
   "source": [
    "import pandas as pd\n",
    "car_data=pd.read_csv(\"toyota.csv\", index_col=0, na_values=[\"??\", \"???\"])"
   ]
  },
  {
   "cell_type": "code",
   "execution_count": 19,
   "id": "4375ba7c",
   "metadata": {},
   "outputs": [
    {
     "name": "stdout",
     "output_type": "stream",
     "text": [
      "<class 'pandas.core.frame.DataFrame'>\n",
      "Index: 1436 entries, 13500 to 6950\n",
      "Data columns (total 9 columns):\n",
      " #   Column     Non-Null Count  Dtype \n",
      "---  ------     --------------  ----- \n",
      " 0   Age        1436 non-null   int64 \n",
      " 1   KM         1436 non-null   int64 \n",
      " 2   FuelType   1436 non-null   object\n",
      " 3   HP         1436 non-null   int64 \n",
      " 4   MetColor   1436 non-null   int64 \n",
      " 5   Automatic  1436 non-null   int64 \n",
      " 6   CC         1436 non-null   int64 \n",
      " 7   Doors      1436 non-null   int64 \n",
      " 8   Weight     1436 non-null   int64 \n",
      "dtypes: int64(8), object(1)\n",
      "memory usage: 112.2+ KB\n"
     ]
    }
   ],
   "source": [
    "car_data.info()\n"
   ]
  },
  {
   "cell_type": "markdown",
   "id": "10173144",
   "metadata": {},
   "source": [
    "# Converting variables data type \n",
    "### astype()\n",
    "### df[\"\"]=df[\"\"].astype(dtype)"
   ]
  },
  {
   "cell_type": "code",
   "execution_count": 20,
   "id": "53278e99",
   "metadata": {},
   "outputs": [],
   "source": [
    "car_data[\"MetColor\"]=car_data[\"MetColor\"].astype(\"object\")"
   ]
  },
  {
   "cell_type": "code",
   "execution_count": 21,
   "id": "bc86717a",
   "metadata": {},
   "outputs": [
    {
     "name": "stdout",
     "output_type": "stream",
     "text": [
      "<class 'pandas.core.frame.DataFrame'>\n",
      "Index: 1436 entries, 13500 to 6950\n",
      "Data columns (total 9 columns):\n",
      " #   Column     Non-Null Count  Dtype \n",
      "---  ------     --------------  ----- \n",
      " 0   Age        1436 non-null   int64 \n",
      " 1   KM         1436 non-null   int64 \n",
      " 2   FuelType   1436 non-null   object\n",
      " 3   HP         1436 non-null   int64 \n",
      " 4   MetColor   1436 non-null   object\n",
      " 5   Automatic  1436 non-null   int64 \n",
      " 6   CC         1436 non-null   int64 \n",
      " 7   Doors      1436 non-null   int64 \n",
      " 8   Weight     1436 non-null   int64 \n",
      "dtypes: int64(7), object(2)\n",
      "memory usage: 112.2+ KB\n"
     ]
    }
   ],
   "source": [
    "car_data.info()"
   ]
  },
  {
   "cell_type": "markdown",
   "id": "8951b09e",
   "metadata": {},
   "source": [
    "# Category vsObject data type\n",
    "### ndarray.nbytes\n"
   ]
  },
  {
   "cell_type": "code",
   "execution_count": 22,
   "id": "d9b0477a",
   "metadata": {},
   "outputs": [
    {
     "data": {
      "text/plain": [
       "11488"
      ]
     },
     "execution_count": 22,
     "metadata": {},
     "output_type": "execute_result"
    }
   ],
   "source": [
    "car_data[\"MetColor\"].nbytes"
   ]
  },
  {
   "cell_type": "code",
   "execution_count": 23,
   "id": "1195cc2f",
   "metadata": {},
   "outputs": [
    {
     "data": {
      "text/plain": [
       "1452"
      ]
     },
     "execution_count": 23,
     "metadata": {},
     "output_type": "execute_result"
    }
   ],
   "source": [
    "car_data[\"MetColor\"].astype(\"category\").nbytes"
   ]
  },
  {
   "cell_type": "code",
   "execution_count": 24,
   "id": "7e6d7ba5",
   "metadata": {},
   "outputs": [
    {
     "name": "stdout",
     "output_type": "stream",
     "text": [
      "<class 'pandas.core.frame.DataFrame'>\n",
      "Index: 1436 entries, 13500 to 6950\n",
      "Data columns (total 9 columns):\n",
      " #   Column     Non-Null Count  Dtype \n",
      "---  ------     --------------  ----- \n",
      " 0   Age        1436 non-null   int64 \n",
      " 1   KM         1436 non-null   int64 \n",
      " 2   FuelType   1436 non-null   object\n",
      " 3   HP         1436 non-null   int64 \n",
      " 4   MetColor   1436 non-null   object\n",
      " 5   Automatic  1436 non-null   int64 \n",
      " 6   CC         1436 non-null   int64 \n",
      " 7   Doors      1436 non-null   int64 \n",
      " 8   Weight     1436 non-null   int64 \n",
      "dtypes: int64(7), object(2)\n",
      "memory usage: 112.2+ KB\n"
     ]
    }
   ],
   "source": [
    "car_data.info()"
   ]
  },
  {
   "cell_type": "code",
   "execution_count": 25,
   "id": "c300bf8a",
   "metadata": {},
   "outputs": [
    {
     "name": "stdout",
     "output_type": "stream",
     "text": [
      "<class 'pandas.core.frame.DataFrame'>\n",
      "Index: 1436 entries, 13500 to 6950\n",
      "Data columns (total 9 columns):\n",
      " #   Column     Non-Null Count  Dtype \n",
      "---  ------     --------------  ----- \n",
      " 0   Age        1436 non-null   int64 \n",
      " 1   KM         1436 non-null   int64 \n",
      " 2   FuelType   1436 non-null   object\n",
      " 3   HP         1436 non-null   int64 \n",
      " 4   MetColor   1436 non-null   object\n",
      " 5   Automatic  1436 non-null   int64 \n",
      " 6   CC         1436 non-null   int64 \n",
      " 7   Doors      1436 non-null   int64 \n",
      " 8   Weight     1436 non-null   int64 \n",
      "dtypes: int64(7), object(2)\n",
      "memory usage: 112.2+ KB\n"
     ]
    }
   ],
   "source": [
    "car_data.info()"
   ]
  },
  {
   "cell_type": "markdown",
   "id": "079f4151",
   "metadata": {},
   "source": [
    "#Replace"
   ]
  },
  {
   "cell_type": "code",
   "execution_count": 26,
   "id": "742eb133",
   "metadata": {},
   "outputs": [],
   "source": [
    "# car_data[\"Doors\"].replace(\"three\", 3, inplace=True)"
   ]
  },
  {
   "cell_type": "code",
   "execution_count": 27,
   "id": "0d154b7d",
   "metadata": {},
   "outputs": [],
   "source": [
    "car_data[\"Doors\"]=car_data[\"Doors\"].astype('int64')"
   ]
  },
  {
   "cell_type": "code",
   "execution_count": 28,
   "id": "255cb00c",
   "metadata": {},
   "outputs": [
    {
     "name": "stdout",
     "output_type": "stream",
     "text": [
      "<class 'pandas.core.frame.DataFrame'>\n",
      "Index: 1436 entries, 13500 to 6950\n",
      "Data columns (total 9 columns):\n",
      " #   Column     Non-Null Count  Dtype \n",
      "---  ------     --------------  ----- \n",
      " 0   Age        1436 non-null   int64 \n",
      " 1   KM         1436 non-null   int64 \n",
      " 2   FuelType   1436 non-null   object\n",
      " 3   HP         1436 non-null   int64 \n",
      " 4   MetColor   1436 non-null   object\n",
      " 5   Automatic  1436 non-null   int64 \n",
      " 6   CC         1436 non-null   int64 \n",
      " 7   Doors      1436 non-null   int64 \n",
      " 8   Weight     1436 non-null   int64 \n",
      "dtypes: int64(7), object(2)\n",
      "memory usage: 112.2+ KB\n"
     ]
    }
   ],
   "source": [
    "car_data.info()"
   ]
  },
  {
   "cell_type": "markdown",
   "id": "feaac716",
   "metadata": {},
   "source": [
    "# Check anymissing value\n",
    "### df.isnull().sum()"
   ]
  },
  {
   "cell_type": "code",
   "execution_count": 29,
   "id": "2e313bd5",
   "metadata": {},
   "outputs": [
    {
     "data": {
      "text/plain": [
       "Age          0\n",
       "KM           0\n",
       "FuelType     0\n",
       "HP           0\n",
       "MetColor     0\n",
       "Automatic    0\n",
       "CC           0\n",
       "Doors        0\n",
       "Weight       0\n",
       "dtype: int64"
      ]
     },
     "execution_count": 29,
     "metadata": {},
     "output_type": "execute_result"
    }
   ],
   "source": [
    "car_data.isnull().sum()"
   ]
  },
  {
   "cell_type": "code",
   "execution_count": null,
   "id": "15d77ef0",
   "metadata": {},
   "outputs": [],
   "source": []
  }
 ],
 "metadata": {
  "kernelspec": {
   "display_name": "Python 3",
   "language": "python",
   "name": "python3"
  },
  "language_info": {
   "codemirror_mode": {
    "name": "ipython",
    "version": 3
   },
   "file_extension": ".py",
   "mimetype": "text/x-python",
   "name": "python",
   "nbconvert_exporter": "python",
   "pygments_lexer": "ipython3",
   "version": "3.12.0"
  }
 },
 "nbformat": 4,
 "nbformat_minor": 5
}
