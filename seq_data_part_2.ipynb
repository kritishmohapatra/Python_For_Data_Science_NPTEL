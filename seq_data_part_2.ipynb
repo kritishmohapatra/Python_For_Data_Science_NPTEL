{
 "cells": [
  {
   "cell_type": "markdown",
   "id": "3a16f1b5",
   "metadata": {},
   "source": [
    "# String Indexing\n"
   ]
  },
  {
   "cell_type": "code",
   "execution_count": 8,
   "id": "8ea74d74",
   "metadata": {},
   "outputs": [
    {
     "name": "stdout",
     "output_type": "stream",
     "text": [
      "5\n",
      "2\n",
      "K\n",
      "s\n"
     ]
    }
   ],
   "source": [
    "string=\"Kritish\"\n",
    "print(string.index(\"s\"))\n",
    "print(string.index(\"iti\"))\n",
    "print(string[0])\n",
    "print(string[-2])\n",
    "# print(string[-9]) #IndexError\n"
   ]
  },
  {
   "cell_type": "markdown",
   "id": "fbc7d7d9",
   "metadata": {},
   "source": [
    "# list Indexing"
   ]
  },
  {
   "cell_type": "code",
   "execution_count": 11,
   "id": "7e242270",
   "metadata": {},
   "outputs": [
    {
     "name": "stdout",
     "output_type": "stream",
     "text": [
      "3\n",
      "4.5\n",
      "mohapatra\n"
     ]
    }
   ],
   "source": [
    "lst=[1, 2, 3, \"kritish\", 4.5, \"mohapatra\"]\n",
    "print(lst.index(\"kritish\"))\n",
    "print(lst[4])\n",
    "print(lst[-1])\n"
   ]
  },
  {
   "cell_type": "markdown",
   "id": "c858093c",
   "metadata": {},
   "source": [
    "# Array Indexing"
   ]
  },
  {
   "cell_type": "code",
   "execution_count": 13,
   "id": "7020f56e",
   "metadata": {},
   "outputs": [
    {
     "name": "stdout",
     "output_type": "stream",
     "text": [
      "1\n",
      "2\n",
      "3\n",
      "4\n",
      "2\n"
     ]
    }
   ],
   "source": [
    "from array import * \n",
    "arr=array(\"i\", [1,2,3,4 ])\n",
    "for x in arr:\n",
    "    print(x)\n",
    "print(arr[-3])"
   ]
  },
  {
   "cell_type": "markdown",
   "id": "314ca816",
   "metadata": {},
   "source": [
    "# Tuple indexing"
   ]
  },
  {
   "cell_type": "code",
   "execution_count": 14,
   "id": "2fa5f4a1",
   "metadata": {},
   "outputs": [
    {
     "name": "stdout",
     "output_type": "stream",
     "text": [
      "py\n"
     ]
    }
   ],
   "source": [
    "tup=(1, 2,3, 4,\"py\")\n",
    "print(tup[-1])"
   ]
  },
  {
   "cell_type": "markdown",
   "id": "f08a8340",
   "metadata": {},
   "source": [
    "# Set Indexing"
   ]
  },
  {
   "cell_type": "code",
   "execution_count": 16,
   "id": "7f72a8e5",
   "metadata": {},
   "outputs": [],
   "source": [
    "s={1, 2, 4, 4, 5}\n",
    "\n",
    "# print(s[-2]) TypeError: 'set' object is not subscriptable"
   ]
  },
  {
   "cell_type": "markdown",
   "id": "33200fce",
   "metadata": {},
   "source": [
    "# Dict Indexing"
   ]
  },
  {
   "cell_type": "code",
   "execution_count": 17,
   "id": "cc894730",
   "metadata": {},
   "outputs": [
    {
     "name": "stdout",
     "output_type": "stream",
     "text": [
      "python\n"
     ]
    }
   ],
   "source": [
    "dic={\"name\":\"kritish\",\n",
    "     \"age\":20,\n",
    "     \"language\":\"python\"}\n",
    "print(dic[\"language\"])"
   ]
  },
  {
   "cell_type": "markdown",
   "id": "10d5ca6a",
   "metadata": {},
   "source": [
    "# range Indexing"
   ]
  },
  {
   "cell_type": "code",
   "execution_count": 19,
   "id": "42e860d1",
   "metadata": {},
   "outputs": [
    {
     "name": "stdout",
     "output_type": "stream",
     "text": [
      "3\n"
     ]
    }
   ],
   "source": [
    "r=range(1, 5,2)\n",
    "print(r[1])"
   ]
  }
 ],
 "metadata": {
  "kernelspec": {
   "display_name": "Python 3",
   "language": "python",
   "name": "python3"
  },
  "language_info": {
   "codemirror_mode": {
    "name": "ipython",
    "version": 3
   },
   "file_extension": ".py",
   "mimetype": "text/x-python",
   "name": "python",
   "nbconvert_exporter": "python",
   "pygments_lexer": "ipython3",
   "version": "3.12.0"
  }
 },
 "nbformat": 4,
 "nbformat_minor": 5
}
