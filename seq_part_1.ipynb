{
 "cells": [
  {
   "cell_type": "markdown",
   "id": "fcab33c0",
   "metadata": {},
   "source": [
    "# String\n"
   ]
  },
  {
   "cell_type": "code",
   "execution_count": 1,
   "id": "9e584dc9",
   "metadata": {},
   "outputs": [
    {
     "name": "stdout",
     "output_type": "stream",
     "text": [
      "Kritish\n"
     ]
    }
   ],
   "source": [
    "name='Kritish'\n",
    "print(name)"
   ]
  },
  {
   "cell_type": "markdown",
   "id": "c6d0b70f",
   "metadata": {},
   "source": [
    "# List"
   ]
  },
  {
   "cell_type": "code",
   "execution_count": 2,
   "id": "2f57f47c",
   "metadata": {},
   "outputs": [
    {
     "name": "stdout",
     "output_type": "stream",
     "text": [
      "[1, 2, 3, 4, 5]\n",
      "['kritish', 1, 5.0, [1, 2, 3]]\n"
     ]
    }
   ],
   "source": [
    "num1=[1, 2, 3, 4, 5]\n",
    "lst=[\"kritish\", 1, 5.0, [1, 2, 3]]\n",
    "print(num1)\n",
    "print(lst)"
   ]
  },
  {
   "cell_type": "code",
   "execution_count": 4,
   "id": "a657d396",
   "metadata": {},
   "outputs": [
    {
     "name": "stdout",
     "output_type": "stream",
     "text": [
      "array('i', [1, 2, 3])\n"
     ]
    }
   ],
   "source": [
    "from array import * \n",
    "sample=array(\"i\",[1, 2, 3])\n",
    "print(sample)"
   ]
  },
  {
   "cell_type": "markdown",
   "id": "9da0a6e7",
   "metadata": {},
   "source": [
    "# Tuple\n"
   ]
  },
  {
   "cell_type": "code",
   "execution_count": 5,
   "id": "37777a3a",
   "metadata": {},
   "outputs": [
    {
     "name": "stdout",
     "output_type": "stream",
     "text": [
      "<class 'tuple'>\n"
     ]
    }
   ],
   "source": [
    "tup=(1, 2, 3)\n",
    "print(type(tup))"
   ]
  },
  {
   "cell_type": "markdown",
   "id": "d2f2abd7",
   "metadata": {},
   "source": [
    "# Dictionary"
   ]
  },
  {
   "cell_type": "code",
   "execution_count": 6,
   "id": "940439ab",
   "metadata": {},
   "outputs": [
    {
     "name": "stdout",
     "output_type": "stream",
     "text": [
      "green\n"
     ]
    }
   ],
   "source": [
    "dic={\"kritish\":\"green\", \"bhuban\":\"green\"}\n",
    "print(dic[\"kritish\"])"
   ]
  },
  {
   "cell_type": "markdown",
   "id": "d6d22a9c",
   "metadata": {},
   "source": [
    "# Set"
   ]
  },
  {
   "cell_type": "code",
   "execution_count": 7,
   "id": "0370e347",
   "metadata": {},
   "outputs": [
    {
     "name": "stdout",
     "output_type": "stream",
     "text": [
      "{1, 2, 3}\n"
     ]
    }
   ],
   "source": [
    "s={1, 1, 2, 3}\n",
    "print(s)"
   ]
  },
  {
   "cell_type": "markdown",
   "id": "b831988e",
   "metadata": {},
   "source": [
    "# Range"
   ]
  },
  {
   "cell_type": "code",
   "execution_count": 11,
   "id": "280b2eac",
   "metadata": {},
   "outputs": [
    {
     "name": "stdout",
     "output_type": "stream",
     "text": [
      "1\n",
      "3\n",
      "5\n",
      "7\n",
      "9\n"
     ]
    }
   ],
   "source": [
    "lst=range(1, 10, 2)\n",
    "\n",
    "for i in lst:print(i)"
   ]
  },
  {
   "cell_type": "code",
   "execution_count": null,
   "id": "2af5b767",
   "metadata": {},
   "outputs": [],
   "source": []
  }
 ],
 "metadata": {
  "kernelspec": {
   "display_name": "Python 3",
   "language": "python",
   "name": "python3"
  },
  "language_info": {
   "codemirror_mode": {
    "name": "ipython",
    "version": 3
   },
   "file_extension": ".py",
   "mimetype": "text/x-python",
   "name": "python",
   "nbconvert_exporter": "python",
   "pygments_lexer": "ipython3",
   "version": "3.12.0"
  }
 },
 "nbformat": 4,
 "nbformat_minor": 5
}
