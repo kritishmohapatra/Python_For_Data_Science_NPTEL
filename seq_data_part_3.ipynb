{
 "cells": [
  {
   "cell_type": "markdown",
   "id": "55698817",
   "metadata": {},
   "source": [
    "# Slicing\n"
   ]
  },
  {
   "cell_type": "code",
   "execution_count": null,
   "id": "d34b7e6b",
   "metadata": {},
   "outputs": [
    {
     "name": "stdout",
     "output_type": "stream",
     "text": [
      "iti\n"
     ]
    }
   ],
   "source": [
    "st=\"Kritish\"\n",
    "print(st[2:5])\n"
   ]
  },
  {
   "cell_type": "code",
   "execution_count": 2,
   "id": "f0052b62",
   "metadata": {},
   "outputs": [
    {
     "name": "stdout",
     "output_type": "stream",
     "text": [
      "Kritish\n"
     ]
    }
   ],
   "source": [
    "print(st[:])"
   ]
  },
  {
   "cell_type": "code",
   "execution_count": 5,
   "id": "29bbc212",
   "metadata": {},
   "outputs": [
    {
     "name": "stdout",
     "output_type": "stream",
     "text": [
      "[1, 2, 2]\n",
      "[2, 2, 4]\n",
      "[2, 2]\n"
     ]
    }
   ],
   "source": [
    "lst=[1, 2, 2, 4]\n",
    "print(lst[:3])\n",
    "print(lst[1:])\n",
    "print(lst[1:3])"
   ]
  },
  {
   "cell_type": "code",
   "execution_count": 8,
   "id": "d96785f8",
   "metadata": {},
   "outputs": [],
   "source": [
    "dic={\"name\":\"kritish\",\n",
    "     \"age\":20,\n",
    "     \"language\":\"python\"}\n",
    "# print(dic[1:\"age\"])  # key error"
   ]
  },
  {
   "cell_type": "code",
   "execution_count": 10,
   "id": "2a7b86b9",
   "metadata": {},
   "outputs": [],
   "source": [
    "s={1, 2, 3,3}\n",
    "# print(s[1:2])\n",
    "# TypeError: 'set' object is not subscriptable"
   ]
  },
  {
   "cell_type": "code",
   "execution_count": 11,
   "id": "882f353c",
   "metadata": {},
   "outputs": [
    {
     "name": "stdout",
     "output_type": "stream",
     "text": [
      "array('i', [1, 2, 3])\n"
     ]
    }
   ],
   "source": [
    "from array import * \n",
    "arr=array(\"i\", [1,2,3,4 ])\n",
    "print(arr[:3])"
   ]
  },
  {
   "cell_type": "code",
   "execution_count": 13,
   "id": "b6d5465e",
   "metadata": {},
   "outputs": [
    {
     "name": "stdout",
     "output_type": "stream",
     "text": [
      "9\n"
     ]
    }
   ],
   "source": [
    "r=range(1, 10, 2)\n",
    "print(r[-1])"
   ]
  },
  {
   "cell_type": "markdown",
   "id": "f7c73112",
   "metadata": {},
   "source": [
    "# Data Operations"
   ]
  },
  {
   "cell_type": "code",
   "execution_count": 14,
   "id": "33e4bafe",
   "metadata": {},
   "outputs": [
    {
     "name": "stdout",
     "output_type": "stream",
     "text": [
      "Kritish Mohapatra\n"
     ]
    }
   ],
   "source": [
    "s1=\"Kritish\"\n",
    "s2=\" Mohapatra\"\n",
    "print(s1+s2)\n"
   ]
  },
  {
   "cell_type": "code",
   "execution_count": 17,
   "id": "4b71a778",
   "metadata": {},
   "outputs": [
    {
     "name": "stdout",
     "output_type": "stream",
     "text": [
      "[1, 2, 'Js', 'py']\n"
     ]
    }
   ],
   "source": [
    "lst=[1,2, \"Js\"]\n",
    "k=lst+[\"py\"]\n",
    "print(k)"
   ]
  },
  {
   "cell_type": "code",
   "execution_count": 19,
   "id": "f760c331",
   "metadata": {},
   "outputs": [],
   "source": [
    "# print(lst+arr)\n",
    "# TypeError: can only concatenate list (not \"array.array\") to list"
   ]
  },
  {
   "cell_type": "code",
   "execution_count": 20,
   "id": "8e835aa7",
   "metadata": {},
   "outputs": [
    {
     "name": "stdout",
     "output_type": "stream",
     "text": [
      "array('i', [50, 60, 1, 2, 3, 4])\n"
     ]
    }
   ],
   "source": [
    "arr2=array(\"i\", [50, 60])\n",
    "print(arr2+arr)"
   ]
  },
  {
   "cell_type": "code",
   "execution_count": 22,
   "id": "3d4bc5bc",
   "metadata": {},
   "outputs": [
    {
     "name": "stdout",
     "output_type": "stream",
     "text": [
      "(1, 2, 3, 'py', 'hi')\n"
     ]
    }
   ],
   "source": [
    "tup=(1, 2, 3)\n",
    "tup2=(\"py\", \"hi\")\n",
    "print(tup+tup2)"
   ]
  },
  {
   "cell_type": "code",
   "execution_count": 24,
   "id": "d4e72303",
   "metadata": {},
   "outputs": [
    {
     "name": "stdout",
     "output_type": "stream",
     "text": [
      "({8, 1, 2, 'python'}, 24)\n"
     ]
    }
   ],
   "source": [
    "s={1, 2, 8, \"python\"}, 24\n",
    "\n",
    "print(s)"
   ]
  },
  {
   "cell_type": "code",
   "execution_count": 26,
   "id": "845035b9",
   "metadata": {},
   "outputs": [
    {
     "name": "stdout",
     "output_type": "stream",
     "text": [
      "Kritish Kritish Kritish Kritish Kritish \n"
     ]
    }
   ],
   "source": [
    "print(\"Kritish \"*5)"
   ]
  },
  {
   "cell_type": "code",
   "execution_count": 27,
   "id": "3f444e3e",
   "metadata": {},
   "outputs": [
    {
     "name": "stdout",
     "output_type": "stream",
     "text": [
      "[1, 2, 'Js', 1, 2, 'Js', 1, 2, 'Js', 1, 2, 'Js', 1, 2, 'Js']\n"
     ]
    }
   ],
   "source": [
    "print(lst*5)"
   ]
  },
  {
   "cell_type": "code",
   "execution_count": 28,
   "id": "973fbfc1",
   "metadata": {},
   "outputs": [
    {
     "name": "stdout",
     "output_type": "stream",
     "text": [
      "JsJsJsJs\n"
     ]
    }
   ],
   "source": [
    "print(lst[2]*4)"
   ]
  },
  {
   "cell_type": "code",
   "execution_count": 29,
   "id": "e4685f84",
   "metadata": {},
   "outputs": [
    {
     "name": "stdout",
     "output_type": "stream",
     "text": [
      "[1, 4, 'Js']\n"
     ]
    }
   ],
   "source": [
    "lst[1]*=2\n",
    "print(lst)"
   ]
  },
  {
   "cell_type": "code",
   "execution_count": 30,
   "id": "57a3adcf",
   "metadata": {},
   "outputs": [
    {
     "name": "stdout",
     "output_type": "stream",
     "text": [
      "(1, 2, 3, 1, 2, 3)\n"
     ]
    }
   ],
   "source": [
    "print(tup*2)"
   ]
  },
  {
   "cell_type": "code",
   "execution_count": null,
   "id": "36bfe0c6",
   "metadata": {},
   "outputs": [],
   "source": [
    "# range gives error in multiplication"
   ]
  },
  {
   "cell_type": "code",
   "execution_count": 32,
   "id": "3800e4be",
   "metadata": {},
   "outputs": [
    {
     "name": "stdout",
     "output_type": "stream",
     "text": [
      "(2, 3)\n"
     ]
    }
   ],
   "source": [
    "print(tup[1:])"
   ]
  },
  {
   "cell_type": "code",
   "execution_count": null,
   "id": "421b83e4",
   "metadata": {},
   "outputs": [],
   "source": []
  }
 ],
 "metadata": {
  "kernelspec": {
   "display_name": "Python 3",
   "language": "python",
   "name": "python3"
  },
  "language_info": {
   "codemirror_mode": {
    "name": "ipython",
    "version": 3
   },
   "file_extension": ".py",
   "mimetype": "text/x-python",
   "name": "python",
   "nbconvert_exporter": "python",
   "pygments_lexer": "ipython3",
   "version": "3.12.0"
  }
 },
 "nbformat": 4,
 "nbformat_minor": 5
}
