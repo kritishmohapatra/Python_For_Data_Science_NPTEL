{
 "cells": [
  {
   "cell_type": "code",
   "execution_count": 7,
   "id": "aa45b9d5",
   "metadata": {},
   "outputs": [
    {
     "name": "stdout",
     "output_type": "stream",
     "text": [
      "     sepal.length  sepal.width  petal.length  petal.width    variety\n",
      "0             5.1          3.5           1.4          0.2     Setosa\n",
      "1             4.9          3.0           1.4          0.2     Setosa\n",
      "2             4.7          3.2           1.3          0.2     Setosa\n",
      "3             4.6          3.1           1.5          0.2     Setosa\n",
      "4             5.0          3.6           1.4          0.2     Setosa\n",
      "..            ...          ...           ...          ...        ...\n",
      "145           6.7          3.0           5.2          2.3  Virginica\n",
      "146           6.3          2.5           5.0          1.9  Virginica\n",
      "147           6.5          3.0           5.2          2.0  Virginica\n",
      "148           6.2          3.4           5.4          2.3  Virginica\n",
      "149           5.9          3.0           5.1          1.8  Virginica\n",
      "\n",
      "[150 rows x 5 columns]\n"
     ]
    }
   ],
   "source": [
    "import pandas as pd \n",
    "data=pd.read_csv(\"iris.csv\")\n",
    "print(data)\n"
   ]
  },
  {
   "cell_type": "code",
   "execution_count": 8,
   "id": "a6aba56a",
   "metadata": {},
   "outputs": [
    {
     "name": "stdout",
     "output_type": "stream",
     "text": [
      "              sepal.width  petal.length  petal.width    variety\n",
      "sepal.length                                                   \n",
      "5.1                   3.5           1.4          0.2     Setosa\n",
      "4.9                   3.0           1.4          0.2     Setosa\n",
      "4.7                   3.2           1.3          0.2     Setosa\n",
      "4.6                   3.1           1.5          0.2     Setosa\n",
      "5.0                   3.6           1.4          0.2     Setosa\n",
      "...                   ...           ...          ...        ...\n",
      "6.7                   3.0           5.2          2.3  Virginica\n",
      "6.3                   2.5           5.0          1.9  Virginica\n",
      "6.5                   3.0           5.2          2.0  Virginica\n",
      "6.2                   3.4           5.4          2.3  Virginica\n",
      "5.9                   3.0           5.1          1.8  Virginica\n",
      "\n",
      "[150 rows x 4 columns]\n"
     ]
    }
   ],
   "source": [
    "data_csv=pd.read_csv(\"iris.csv\", index_col=0)\n",
    "print(data_csv)"
   ]
  },
  {
   "cell_type": "code",
   "execution_count": 9,
   "id": "b2e1d1ae",
   "metadata": {},
   "outputs": [
    {
     "name": "stdout",
     "output_type": "stream",
     "text": [
      "              sepal.width  petal.length  petal.width    variety\n",
      "sepal.length                                                   \n",
      "5.1                   3.5           1.4          0.2     Setosa\n",
      "4.9                   3.0           1.4          0.2     Setosa\n",
      "4.7                   3.2           1.3          0.2     Setosa\n",
      "4.6                   3.1           1.5          0.2     Setosa\n",
      "5.0                   3.6           1.4          0.2     Setosa\n",
      "...                   ...           ...          ...        ...\n",
      "6.7                   3.0           5.2          2.3  Virginica\n",
      "6.3                   2.5           5.0          1.9  Virginica\n",
      "6.5                   3.0           5.2          2.0  Virginica\n",
      "6.2                   3.4           5.4          2.3  Virginica\n",
      "5.9                   3.0           5.1          1.8  Virginica\n",
      "\n",
      "[150 rows x 4 columns]\n"
     ]
    }
   ],
   "source": [
    "data_csv=pd.read_csv(\"iris.csv\", index_col=0, na_values=[\"??\"])\n",
    "print(data_csv)"
   ]
  },
  {
   "cell_type": "code",
   "execution_count": 11,
   "id": "b21e29d2",
   "metadata": {},
   "outputs": [],
   "source": [
    "# data_xl=pd.read_excel(\"iris_sample.xlsx\")\n",
    "# print(data_xl)"
   ]
  },
  {
   "cell_type": "code",
   "execution_count": null,
   "id": "2656561a",
   "metadata": {},
   "outputs": [],
   "source": [
    "# data_txt=pd.read_table(\"data_sample.txt\", sep=\"\\t\", delimeter=\"\\t\")\n",
    "# print(data_txt)"
   ]
  }
 ],
 "metadata": {
  "kernelspec": {
   "display_name": "Python 3",
   "language": "python",
   "name": "python3"
  },
  "language_info": {
   "codemirror_mode": {
    "name": "ipython",
    "version": 3
   },
   "file_extension": ".py",
   "mimetype": "text/x-python",
   "name": "python",
   "nbconvert_exporter": "python",
   "pygments_lexer": "ipython3",
   "version": "3.12.0"
  }
 },
 "nbformat": 4,
 "nbformat_minor": 5
}
